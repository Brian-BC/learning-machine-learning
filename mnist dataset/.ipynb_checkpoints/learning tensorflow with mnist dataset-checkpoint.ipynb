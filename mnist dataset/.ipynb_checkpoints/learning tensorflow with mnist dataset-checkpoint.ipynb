{
 "cells": [
  {
   "cell_type": "code",
   "execution_count": 1,
   "metadata": {},
   "outputs": [],
   "source": [
    "import tensorflow as tf\n",
    "\n",
    "# mnist dataset containing 28 by 28 images of handwriten digits 0-9\n",
    "mnist = tf.keras.datasets.mnist\n",
    "\n",
    "# load the mnist dataset into arrays\n",
    "(training_images, training_labels), (test_images, test_labels) = mnist.load_data()\n",
    "\n",
    "# normalize the pixel values from 0-255 to 0-1\n",
    "training_images = tf.keras.utils.normalize(training_images, axis=1)\n",
    "test_images = tf.keras.utils.normalize(test_images, axis=1)"
   ]
  },
  {
   "cell_type": "code",
   "execution_count": 3,
   "metadata": {},
   "outputs": [
    {
     "data": {
      "image/png": "[encoded data removed]",
      "text/plain": [
       "<Figure size 432x288 with 1 Axes>"
      ]
     },
     "metadata": {
      "needs_background": "light"
     },
     "output_type": "display_data"
    },
    {
     "name": "stdout",
     "output_type": "stream",
     "text": [
      "image corresponds to label: 4\n",
      "[[0.         0.         0.         0.         0.         0.\n",
      "  0.         0.         0.         0.         0.         0.\n",
      "  0.         0.         0.         0.         0.         0.\n",
      "  0.         0.         0.         0.         0.         0.\n",
      "  0.         0.         0.         0.        ]\n",
      " [0.         0.         0.         0.         0.         0.\n",
      "  0.         0.         0.         0.         0.         0.\n",
      "  0.         0.         0.         0.         0.         0.\n",
      "  0.         0.         0.         0.         0.         0.\n",
      "  0.         0.         0.         0.        ]\n",
      " [0.         0.         0.         0.         0.         0.\n",
      "  0.         0.         0.         0.         0.         0.\n",
      "  0.         0.         0.         0.         0.         0.\n",
      "  0.         0.         0.         0.         0.         0.\n",
      "  0.         0.         0.         0.        ]\n",
      " [0.         0.         0.         0.         0.         0.\n",
      "  0.         0.         0.         0.         0.         0.\n",
      "  0.         0.         0.         0.         0.         0.\n",
      "  0.         0.         0.         0.         0.         0.\n",
      "  0.         0.         0.         0.        ]\n",
      " [0.         0.         0.         0.         0.         0.\n",
      "  0.         0.         0.         0.         0.         0.\n",
      "  0.         0.         0.         0.         0.         0.\n",
      "  0.         0.         0.         0.         0.         0.\n",
      "  0.         0.         0.         0.        ]\n",
      " [0.         0.         0.         0.         0.         0.\n",
      "  0.         0.         0.         0.         0.         0.\n",
      "  0.         0.         0.         0.         0.11285395 0.22444618\n",
      "  0.19494734 0.12232224 0.         0.         0.         0.\n",
      "  0.         0.         0.         0.        ]\n",
      " [0.         0.         0.         0.         0.         0.\n",
      "  0.         0.         0.16542172 0.05972952 0.         0.\n",
      "  0.         0.         0.         0.00958102 0.21938808 0.22356253\n",
      "  0.23486512 0.26251177 0.         0.         0.         0.\n",
      "  0.         0.         0.         0.        ]\n",
      " [0.         0.         0.         0.         0.         0.\n",
      "  0.04314651 0.13018023 0.29700717 0.29483509 0.00935526 0.\n",
      "  0.         0.         0.         0.00958102 0.22841639 0.22356253\n",
      "  0.23486512 0.26251177 0.         0.         0.         0.\n",
      "  0.         0.         0.         0.        ]\n",
      " [0.         0.         0.         0.         0.         0.\n",
      "  0.14212969 0.34669051 0.31705829 0.32152275 0.01122631 0.\n",
      "  0.         0.         0.         0.00958102 0.22841639 0.22356253\n",
      "  0.23486512 0.26251177 0.         0.         0.         0.\n",
      "  0.         0.         0.         0.        ]\n",
      " [0.         0.         0.         0.         0.         0.\n",
      "  0.14212969 0.34669051 0.31705829 0.32152275 0.01122631 0.\n",
      "  0.         0.         0.         0.00958102 0.22841639 0.22356253\n",
      "  0.23486512 0.26251177 0.         0.         0.         0.\n",
      "  0.         0.         0.         0.        ]\n",
      " [0.         0.         0.         0.         0.         0.\n",
      "  0.14212969 0.34669051 0.31705829 0.32152275 0.01122631 0.\n",
      "  0.         0.         0.         0.00958102 0.22841639 0.22356253\n",
      "  0.23486512 0.26251177 0.         0.         0.         0.\n",
      "  0.         0.         0.         0.        ]\n",
      " [0.         0.         0.         0.         0.         0.\n",
      "  0.14212969 0.34669051 0.31705829 0.32152275 0.14407103 0.\n",
      "  0.         0.         0.         0.00958102 0.22841639 0.22356253\n",
      "  0.23486512 0.26251177 0.         0.         0.         0.\n",
      "  0.         0.         0.         0.        ]\n",
      " [0.         0.         0.         0.         0.         0.\n",
      "  0.2944115  0.34669051 0.31705829 0.32152275 0.35737099 0.02490624\n",
      "  0.         0.17645426 0.23822375 0.25868745 0.22841639 0.22356253\n",
      "  0.23486512 0.26251177 0.         0.         0.         0.\n",
      "  0.         0.         0.         0.        ]\n",
      " [0.         0.         0.         0.         0.         0.\n",
      "  0.4873018  0.34669051 0.31705829 0.32152275 0.47337623 0.47736955\n",
      "  0.47268797 0.53589811 0.54297847 0.34628532 0.22841639 0.22356253\n",
      "  0.23486512 0.09345969 0.         0.         0.         0.\n",
      "  0.         0.         0.         0.        ]\n",
      " [0.         0.         0.         0.         0.         0.94714458\n",
      "  0.61420331 0.34669051 0.31705829 0.32152275 0.47337623 0.52510651\n",
      "  0.52682844 0.55114725 0.54297847 0.34628532 0.22841639 0.22356253\n",
      "  0.23486512 0.07421799 0.         0.         0.         0.\n",
      "  0.         0.         0.         0.        ]\n",
      " [0.         0.         0.         0.         0.         0.32080703\n",
      "  0.4619215  0.34669051 0.31705829 0.32152275 0.47337623 0.52510651\n",
      "  0.52682844 0.55114725 0.54297847 0.34628532 0.22841639 0.22356253\n",
      "  0.22001199 0.0962085  0.         0.         0.         0.\n",
      "  0.         0.         0.         0.        ]\n",
      " [0.         0.         0.         0.         0.         0.\n",
      "  0.0507606  0.14662405 0.28322203 0.28721005 0.42285782 0.46906747\n",
      "  0.47060564 0.27230595 0.22320064 0.32986072 0.22841639 0.22356253\n",
      "  0.20794383 0.23639803 0.         0.         0.         0.\n",
      "  0.         0.         0.         0.        ]\n",
      " [0.         0.         0.         0.         0.         0.\n",
      "  0.         0.         0.         0.         0.         0.\n",
      "  0.         0.         0.         0.1970952  0.22841639 0.22356253\n",
      "  0.23486512 0.26251177 0.         0.         0.         0.\n",
      "  0.         0.         0.         0.        ]\n",
      " [0.         0.         0.         0.         0.         0.\n",
      "  0.         0.         0.         0.         0.         0.\n",
      "  0.         0.         0.         0.1067599  0.22841639 0.22356253\n",
      "  0.23486512 0.26251177 0.         0.         0.         0.\n",
      "  0.         0.         0.         0.        ]\n",
      " [0.         0.         0.         0.         0.         0.\n",
      "  0.         0.         0.         0.         0.         0.\n",
      "  0.         0.         0.         0.18751419 0.22841639 0.22356253\n",
      "  0.23486512 0.26251177 0.         0.         0.         0.\n",
      "  0.         0.         0.         0.        ]\n",
      " [0.         0.         0.         0.         0.         0.\n",
      "  0.         0.         0.         0.         0.         0.\n",
      "  0.         0.         0.         0.1970952  0.22841639 0.22356253\n",
      "  0.23486512 0.26251177 0.         0.         0.         0.\n",
      "  0.         0.         0.         0.        ]\n",
      " [0.         0.         0.         0.         0.         0.\n",
      "  0.         0.         0.         0.         0.         0.\n",
      "  0.         0.         0.04721552 0.31480484 0.22841639 0.22356253\n",
      "  0.23486512 0.26251177 0.         0.         0.         0.\n",
      "  0.         0.         0.         0.        ]\n",
      " [0.         0.         0.         0.         0.         0.\n",
      "  0.         0.         0.         0.         0.         0.\n",
      "  0.         0.         0.06009248 0.34628532 0.22841639 0.22356253\n",
      "  0.23486512 0.26251177 0.         0.         0.         0.\n",
      "  0.         0.         0.         0.        ]\n",
      " [0.         0.         0.         0.         0.         0.\n",
      "  0.         0.         0.         0.         0.         0.\n",
      "  0.         0.         0.05580016 0.33396687 0.22841639 0.22356253\n",
      "  0.18659245 0.09895732 0.         0.         0.         0.\n",
      "  0.         0.         0.         0.        ]\n",
      " [0.         0.         0.         0.         0.         0.\n",
      "  0.         0.         0.         0.         0.         0.\n",
      "  0.         0.         0.         0.09581017 0.22841639 0.22356253\n",
      "  0.0900471  0.         0.         0.         0.         0.\n",
      "  0.         0.         0.         0.        ]\n",
      " [0.         0.         0.         0.         0.         0.\n",
      "  0.         0.         0.         0.         0.         0.\n",
      "  0.         0.         0.         0.         0.         0.\n",
      "  0.         0.         0.         0.         0.         0.\n",
      "  0.         0.         0.         0.        ]\n",
      " [0.         0.         0.         0.         0.         0.\n",
      "  0.         0.         0.         0.         0.         0.\n",
      "  0.         0.         0.         0.         0.         0.\n",
      "  0.         0.         0.         0.         0.         0.\n",
      "  0.         0.         0.         0.        ]\n",
      " [0.         0.         0.         0.         0.         0.\n",
      "  0.         0.         0.         0.         0.         0.\n",
      "  0.         0.         0.         0.         0.         0.\n",
      "  0.         0.         0.         0.         0.         0.\n",
      "  0.         0.         0.         0.        ]]\n"
     ]
    }
   ],
   "source": [
    "import matplotlib.pyplot as plt\n",
    "\n",
    "# index of sample shown\n",
    "sample_index = 58\n",
    "\n",
    "# show one of the training images using greyscale colour map\n",
    "plt.imshow(training_images[sample_index], cmap = plt.cm.binary)\n",
    "plt.show()\n",
    "\n",
    "# show corresponding label\n",
    "print(\"image corresponds to label:\", training_labels[sample_index])\n",
    "\n",
    "# show image pixel value array\n",
    "print(training_images[sample_index])"
   ]
  },
  {
   "cell_type": "code",
   "execution_count": 4,
   "metadata": {},
   "outputs": [
    {
     "name": "stderr",
     "output_type": "stream",
     "text": [
      "WARNING: Logging before flag parsing goes to stderr.\n",
      "W0804 00:02:50.271044 4424336832 deprecation.py:506] From /Users/Brian.Chan/Library/Python/3.7/lib/python/site-packages/tensorflow/python/ops/init_ops.py:1251: calling VarianceScaling.__init__ (from tensorflow.python.ops.init_ops) with dtype is deprecated and will be removed in a future version.\n",
      "Instructions for updating:\n",
      "Call initializer instance with the dtype argument instead of passing it to the constructor\n"
     ]
    },
    {
     "name": "stdout",
     "output_type": "stream",
     "text": [
      "Epoch 1/5\n",
      "60000/60000 [==============================] - 6s 98us/sample - loss: 0.2645 - acc: 0.9225\n",
      "Epoch 2/5\n",
      "60000/60000 [==============================] - 6s 92us/sample - loss: 0.1074 - acc: 0.9669\n",
      "Epoch 3/5\n",
      "60000/60000 [==============================] - 6s 92us/sample - loss: 0.0747 - acc: 0.9766\n",
      "Epoch 4/5\n",
      "60000/60000 [==============================] - 5s 89us/sample - loss: 0.0539 - acc: 0.9827\n",
      "Epoch 5/5\n",
      "60000/60000 [==============================] - 5s 88us/sample - loss: 0.0411 - acc: 0.9863\n"
     ]
    },
    {
     "data": {
      "text/plain": [
       "<tensorflow.python.keras.callbacks.History at 0x11e9c5da0>"
      ]
     },
     "execution_count": 4,
     "metadata": {},
     "output_type": "execute_result"
    }
   ],
   "source": [
    "# building the architecture for the model\n",
    "model = tf.keras.models.Sequential()\n",
    "\n",
    "# flatten the image from a 2d array down to a 1d array of pixel values\n",
    "model.add(tf.keras.layers.Flatten())\n",
    "\n",
    "# first hidden layer of 128 using relu \n",
    "model.add(tf.keras.layers.Dense(128, activation=tf.nn.relu))\n",
    "\n",
    "# second hidden layer of 128 using relu\n",
    "model.add(tf.keras.layers.Dense(128, activation=tf.nn.relu))\n",
    "\n",
    "# output layer of 10 (digits 0-9) using softmax\n",
    "model.add(tf.keras.layers.Dense(10, activation=tf.nn.softmax))\n",
    "\n",
    "# getting lowest loss percentage as possible\n",
    "model.compile(optimizer=\"adam\",\n",
    "             loss=\"sparse_categorical_crossentropy\",\n",
    "             metrics=[\"accuracy\"])\n",
    "\n",
    "# training the model\n",
    "model.fit(training_images, training_labels, epochs=5)"
   ]
  },
  {
   "cell_type": "code",
   "execution_count": 5,
   "metadata": {},
   "outputs": [
    {
     "name": "stdout",
     "output_type": "stream",
     "text": [
      "10000/10000 [==============================] - 1s 54us/sample - loss: 0.0998 - acc: 0.9723\n",
      "validation loss:  0.09984973484843504\n",
      "validation accuracy 0.9723\n"
     ]
    }
   ],
   "source": [
    "# validate the loss and accuracy of the model against the testing dataset\n",
    "validation_loss, validation_accuracy = model.evaluate(test_images, test_labels)\n",
    "print(\"validation loss: \", validation_loss)\n",
    "print(\"validation accuracy\", validation_accuracy)"
   ]
  },
  {
   "cell_type": "code",
   "execution_count": 6,
   "metadata": {},
   "outputs": [],
   "source": [
    "# saving the model for future use. must be .model\n",
    "model.save(\"mnist_dataset.model\")"
   ]
  },
  {
   "cell_type": "code",
   "execution_count": 8,
   "metadata": {},
   "outputs": [
    {
     "name": "stderr",
     "output_type": "stream",
     "text": [
      "W0804 00:03:53.169738 4424336832 deprecation.py:506] From /Users/Brian.Chan/Library/Python/3.7/lib/python/site-packages/tensorflow/python/ops/init_ops.py:97: calling GlorotUniform.__init__ (from tensorflow.python.ops.init_ops) with dtype is deprecated and will be removed in a future version.\n",
      "Instructions for updating:\n",
      "Call initializer instance with the dtype argument instead of passing it to the constructor\n",
      "W0804 00:03:53.173157 4424336832 deprecation.py:506] From /Users/Brian.Chan/Library/Python/3.7/lib/python/site-packages/tensorflow/python/ops/init_ops.py:97: calling Zeros.__init__ (from tensorflow.python.ops.init_ops) with dtype is deprecated and will be removed in a future version.\n",
      "Instructions for updating:\n",
      "Call initializer instance with the dtype argument instead of passing it to the constructor\n",
      "W0804 00:03:53.429909 4424336832 hdf5_format.py:263] Sequential models without an `input_shape` passed to the first layer cannot reload their optimizer state. As a result, your model isstarting with a freshly initialized optimizer.\n"
     ]
    }
   ],
   "source": [
    "# load a model for prediction\n",
    "new_model = tf.keras.models.load_model(\"mnist_dataset.model\")"
   ]
  },
  {
   "cell_type": "code",
   "execution_count": 9,
   "metadata": {},
   "outputs": [
    {
     "name": "stdout",
     "output_type": "stream",
     "text": [
      "[1.2966175e-11 1.1880263e-08 9.2598666e-06 2.7916929e-06 6.5491695e-11\n",
      " 3.1904015e-09 6.2667203e-16 9.9998748e-01 4.6613934e-07 1.5348476e-08]\n"
     ]
    }
   ],
   "source": [
    "# prediction sample index\n",
    "prediction_sample = 2666\n",
    "\n",
    "# make a prediction with the model\n",
    "predictions = new_model.predict(test_images)\n",
    "print(predictions[prediction_sample])"
   ]
  },
  {
   "cell_type": "code",
   "execution_count": 10,
   "metadata": {},
   "outputs": [
    {
     "data": {
      "image/png": "[encoded data removed]",
      "text/plain": [
       "<Figure size 432x288 with 1 Axes>"
      ]
     },
     "metadata": {
      "needs_background": "light"
     },
     "output_type": "display_data"
    }
   ],
   "source": [
    "# show the prediction sample image using greyscale colour map\n",
    "plt.imshow(test_images[prediction_sample], cmap = plt.cm.binary)\n",
    "plt.show()"
   ]
  },
  {
   "cell_type": "code",
   "execution_count": 11,
   "metadata": {},
   "outputs": [
    {
     "name": "stdout",
     "output_type": "stream",
     "text": [
      "model predicts image is a:  7\n"
     ]
    }
   ],
   "source": [
    "import numpy as np\n",
    "\n",
    "print(\"model predicts image is a: \", np.argmax(predictions[prediction_sample]))"
   ]
  },
  {
   "cell_type": "code",
   "execution_count": null,
   "metadata": {},
   "outputs": [],
   "source": []
  }
 ],
 "metadata": {
  "kernelspec": {
   "display_name": "Python 3",
   "language": "python",
   "name": "python3"
  },
  "language_info": {
   "codemirror_mode": {
    "name": "ipython",
    "version": 3
   },
   "file_extension": ".py",
   "mimetype": "text/x-python",
   "name": "python",
   "nbconvert_exporter": "python",
   "pygments_lexer": "ipython3",
   "version": "3.7.3"
  }
 },
 "nbformat": 4,
 "nbformat_minor": 2
}
