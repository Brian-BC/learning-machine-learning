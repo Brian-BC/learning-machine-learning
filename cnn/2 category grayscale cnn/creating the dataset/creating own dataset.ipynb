{
 "cells": [
  {
   "cell_type": "code",
   "execution_count": 1,
   "metadata": {},
   "outputs": [],
   "source": [
    "import numpy as np\n",
    "import cv2\n",
    "import os\n",
    "import matplotlib.pyplot as plt\n",
    "\n",
    "kaggle_dir = \"kaggle dogs and cats\"\n",
    "kaggle_categories = [\"dog\", \"cat\"] \n",
    "img_dimension = 80"
   ]
  },
  {
   "cell_type": "code",
   "execution_count": 2,
   "metadata": {},
   "outputs": [],
   "source": [
    "def img_resize_square(resizing_array, dimension):\n",
    "    # find smallest dimesion to crop the image to a square\n",
    "    smallest_dimention = np.min(resizing_array.shape)\n",
    "\n",
    "    # origin is at top left\n",
    "    # find top left coordinate of cropped image\n",
    "    height_start = int((resizing_array.shape[0] - smallest_dimention) / 2)\n",
    "    width_start = int((resizing_array.shape[1] - smallest_dimention) / 2)\n",
    "\n",
    "    # find bottom right coordinate of cropped image\n",
    "    height_end = int(height_start + smallest_dimention)\n",
    "    width_end = int(width_start + smallest_dimention)\n",
    "\n",
    "    # center crop the image \n",
    "    cropped_array = resizing_array[height_start:height_end, width_start:width_end]\n",
    "    \n",
    "    # resize the image to correct dimensions\n",
    "    final_img_array = cv2.resize(cropped_array, (dimension, dimension))\n",
    "    \n",
    "    return final_img_array"
   ]
  },
  {
   "cell_type": "code",
   "execution_count": 3,
   "metadata": {},
   "outputs": [],
   "source": [
    "training_data = []\n",
    "\n",
    "def create_training_data(data_dir, categories):\n",
    "    # goes through each category\n",
    "    for category in categories:\n",
    "        # path to each category\n",
    "        path = os.path.join(data_dir, category)\n",
    "        # defining image labels for each category\n",
    "        img_label = categories.index(category)\n",
    "        \n",
    "        # going through every image in each category folder\n",
    "        for img in os.listdir(path):\n",
    "            \n",
    "            try:\n",
    "                # store the image pixel values into an array as a grayscale image\n",
    "                img_array = cv2.imread(os.path.join(path, img), cv2.IMREAD_GRAYSCALE)\n",
    "                # resize the image to the desired dimensions\n",
    "                img_array = img_resize_square(img_array, img_dimension)\n",
    "                # add the image array and label to the training data list\n",
    "                training_data.append([img_array, img_label])\n",
    "                \n",
    "            except Exception as e:\n",
    "                pass\n",
    "\n",
    "create_training_data(kaggle_dir, kaggle_categories)"
   ]
  },
  {
   "cell_type": "code",
   "execution_count": 4,
   "metadata": {},
   "outputs": [
    {
     "name": "stdout",
     "output_type": "stream",
     "text": [
      "24946\n"
     ]
    }
   ],
   "source": [
    "print(len(training_data))"
   ]
  },
  {
   "cell_type": "code",
   "execution_count": 5,
   "metadata": {},
   "outputs": [],
   "source": [
    "import random \n",
    "\n",
    "random.shuffle(training_data)"
   ]
  },
  {
   "cell_type": "code",
   "execution_count": 6,
   "metadata": {},
   "outputs": [
    {
     "name": "stdout",
     "output_type": "stream",
     "text": [
      "0\n",
      "0\n",
      "1\n",
      "1\n",
      "0\n",
      "0\n",
      "1\n",
      "0\n",
      "0\n",
      "1\n"
     ]
    }
   ],
   "source": [
    "for sample in training_data[:10]:\n",
    "    print(sample[1])\n",
    "    "
   ]
  },
  {
   "cell_type": "code",
   "execution_count": 7,
   "metadata": {},
   "outputs": [],
   "source": [
    "x = []\n",
    "y = []\n",
    "\n",
    "# split the labels and images in training data array into separate arrays\n",
    "for images, labels in training_data:\n",
    "    x.append(images)\n",
    "    y.append(labels)\n",
    "    \n",
    "training_images = np.array(x).reshape(-1, img_dimension, img_dimension, 1)\n",
    "training_labels = y"
   ]
  },
  {
   "cell_type": "code",
   "execution_count": 8,
   "metadata": {},
   "outputs": [],
   "source": [
    "import pickle\n",
    "\n",
    "# saving training image data using pickle\n",
    "pickle_out = open(\"training_images.pickle\", \"wb\")\n",
    "pickle.dump(training_images, pickle_out)\n",
    "pickle_out.close()\n",
    "\n",
    "# saving training label data using pickle\n",
    "pickle_out = open(\"training_labels.pickle\", \"wb\")\n",
    "pickle.dump(training_labels, pickle_out)\n",
    "pickle_out.close()"
   ]
  },
  {
   "cell_type": "code",
   "execution_count": 9,
   "metadata": {},
   "outputs": [
    {
     "data": {
      "text/plain": [
       "0"
      ]
     },
     "execution_count": 9,
     "metadata": {},
     "output_type": "execute_result"
    }
   ],
   "source": [
    "# load the data and display a sample\n",
    "pickle_in = open(\"training_labels.pickle\", \"rb\")\n",
    "loaded_training_labels = pickle.load(pickle_in)\n",
    "\n",
    "loaded_training_labels[1]"
   ]
  },
  {
   "cell_type": "code",
   "execution_count": null,
   "metadata": {},
   "outputs": [],
   "source": []
  }
 ],
 "metadata": {
  "kernelspec": {
   "display_name": "Python 3",
   "language": "python",
   "name": "python3"
  },
  "language_info": {
   "codemirror_mode": {
    "name": "ipython",
    "version": 3
   },
   "file_extension": ".py",
   "mimetype": "text/x-python",
   "name": "python",
   "nbconvert_exporter": "python",
   "pygments_lexer": "ipython3",
   "version": "3.7.3"
  }
 },
 "nbformat": 4,
 "nbformat_minor": 2
}
