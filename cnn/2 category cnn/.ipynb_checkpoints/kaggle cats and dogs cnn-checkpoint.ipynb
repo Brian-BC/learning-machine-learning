{
 "cells": [
  {
   "cell_type": "code",
   "execution_count": 1,
   "metadata": {},
   "outputs": [],
   "source": [
    "import tensorflow as tf\n",
    "from tensorflow.keras import datasets, layers, models\n",
    "import pickle\n",
    "import cv2\n",
    "import os\n",
    "import numpy as np\n",
    "import matplotlib.pyplot as plt\n",
    "\n",
    "# loading the data\n",
    "training_images = pickle.load(open(\"creating the dataset/training_images.pickle\", \"rb\"))\n",
    "training_labels = pickle.load(open(\"creating the dataset/training_labels.pickle\", \"rb\"))"
   ]
  },
  {
   "cell_type": "code",
   "execution_count": 2,
   "metadata": {},
   "outputs": [],
   "source": [
    "# normalize the pixel values from 0-255 to 0-1\n",
    "training_images = training_images/255"
   ]
  },
  {
   "cell_type": "code",
   "execution_count": null,
   "metadata": {},
   "outputs": [
    {
     "name": "stderr",
     "output_type": "stream",
     "text": [
      "WARNING: Logging before flag parsing goes to stderr.\n",
      "W0904 19:10:32.138275 4608906688 deprecation.py:506] From /Users/Brian.Chan/Library/Python/3.7/lib/python/site-packages/tensorflow/python/ops/init_ops.py:1251: calling VarianceScaling.__init__ (from tensorflow.python.ops.init_ops) with dtype is deprecated and will be removed in a future version.\n",
      "Instructions for updating:\n",
      "Call initializer instance with the dtype argument instead of passing it to the constructor\n"
     ]
    }
   ],
   "source": [
    "# building the architecture for the model\n",
    "model = models.Sequential()\n",
    "\n",
    "# first conv2D\n",
    "model.add(layers.Conv2D(32, (3, 3), activation='relu', input_shape=(80, 80, 1)))\n",
    "model.add(layers.MaxPooling2D((2, 2)))\n",
    "\n",
    "# second conv2D\n",
    "model.add(layers.Conv2D(64, (3, 3), activation='relu'))\n",
    "model.add(layers.MaxPooling2D((2, 2)))\n",
    "\n",
    "# third conv2D\n",
    "model.add(layers.Conv2D(64, (3, 3), activation='relu'))\n",
    "model.add(layers.MaxPooling2D((2, 2)))\n",
    "\n",
    "# fully connected layer\n",
    "model.add(layers.Flatten())\n",
    "model.add(layers.Dense(128, activation='relu'))\n",
    "model.add(layers.Dense(128, activation='relu'))\n",
    "model.add(layers.Dense(1, activation='sigmoid'))\n",
    "\n",
    "model.summary()"
   ]
  },
  {
   "cell_type": "code",
   "execution_count": null,
   "metadata": {},
   "outputs": [],
   "source": [
    "model.compile(optimizer='adam',\n",
    "              loss='binary_crossentropy',\n",
    "              metrics=['accuracy'])\n",
    "\n",
    "# training the model\n",
    "model.fit(training_images, training_labels, batch_size=32, epochs=5, validation_split=0.2)"
   ]
  },
  {
   "cell_type": "code",
   "execution_count": null,
   "metadata": {},
   "outputs": [],
   "source": [
    "# saving the model for future use. must be .model\n",
    "model.save(\"kaggle_cnn.model\")"
   ]
  },
  {
   "cell_type": "code",
   "execution_count": null,
   "metadata": {},
   "outputs": [],
   "source": [
    "# load a model for prediction\n",
    "new_model = tf.keras.models.load_model(\"kaggle_cnn.model\")"
   ]
  },
  {
   "cell_type": "code",
   "execution_count": null,
   "metadata": {},
   "outputs": [],
   "source": [
    "def prepare_img(test_dir, test_img):\n",
    "    # open test image as array\n",
    "    img_array = cv2.imread(os.path.join(test_dir, test_img), cv2.IMREAD_GRAYSCALE)\n",
    "    \n",
    "    # find smallest dimesion to crop the image to a square\n",
    "    smallest_dimention = np.min(img_array.shape)\n",
    "\n",
    "    # origin is at top left\n",
    "    # find top left coordinate of cropped image\n",
    "    height_start = int((img_array.shape[0] - smallest_dimention) / 2)\n",
    "    width_start = int((img_array.shape[1] - smallest_dimention) / 2)\n",
    "\n",
    "    # find bottom right coordinate of cropped image\n",
    "    height_end = int(height_start + smallest_dimention)\n",
    "    width_end = int(width_start + smallest_dimention)\n",
    "\n",
    "    # center crop the image \n",
    "    cropped_array = img_array[height_start:height_end, width_start:width_end]\n",
    "    \n",
    "    # resize the image to correct dimensions\n",
    "    final_img_array = cv2.resize(cropped_array, (80, 80))\n",
    "    \n",
    "    img_array = img_array/255\n",
    "    \n",
    "    return final_img_array.reshape(-1, 80, 80, 1)"
   ]
  },
  {
   "cell_type": "code",
   "execution_count": null,
   "metadata": {},
   "outputs": [],
   "source": [
    "test_dir = \"test\"\n",
    "test_img = \"test3.jpg\"\n",
    "categories = [\"Dog\", \"Cat\"]"
   ]
  },
  {
   "cell_type": "code",
   "execution_count": null,
   "metadata": {},
   "outputs": [],
   "source": [
    "img_array = prepare_img(test_dir, test_img)\n",
    "print(img_array.shape)\n",
    "\n",
    "\n",
    "test_img_array = cv2.imread(os.path.join(test_dir, test_img), cv2.IMREAD_GRAYSCALE)\n",
    "plt.imshow(test_img_array, cmap=\"gray\")\n",
    "plt.show()\n",
    "\n",
    "# make a prediction with the model\n",
    "prediction = new_model.predict([img_array])\n",
    "print(prediction)\n",
    "print(\"model predicts:\", categories[int(prediction[0][0])])"
   ]
  },
  {
   "cell_type": "code",
   "execution_count": null,
   "metadata": {},
   "outputs": [],
   "source": []
  }
 ],
 "metadata": {
  "kernelspec": {
   "display_name": "Python 3",
   "language": "python",
   "name": "python3"
  },
  "language_info": {
   "codemirror_mode": {
    "name": "ipython",
    "version": 3
   },
   "file_extension": ".py",
   "mimetype": "text/x-python",
   "name": "python",
   "nbconvert_exporter": "python",
   "pygments_lexer": "ipython3",
   "version": "3.7.3"
  }
 },
 "nbformat": 4,
 "nbformat_minor": 2
}
